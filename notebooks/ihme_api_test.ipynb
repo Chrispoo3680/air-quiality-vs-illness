{
 "cells": [
  {
   "cell_type": "code",
   "execution_count": 8,
   "id": "58a0b5fd",
   "metadata": {},
   "outputs": [
    {
     "data": {
      "text/plain": [
       "WindowsPath('C:/Users/chris/Desktop/GitHub/air-quiality-vs-illness')"
      ]
     },
     "execution_count": 8,
     "metadata": {},
     "output_type": "execute_result"
    }
   ],
   "source": [
    "import sys\n",
    "from pathlib import Path\n",
    "import os\n",
    "\n",
    "repo_root_dir: Path = Path().resolve().parent\n",
    "sys.path.append(str(repo_root_dir))\n",
    "repo_root_dir"
   ]
  },
  {
   "cell_type": "code",
   "execution_count": 9,
   "id": "3d2b8d61",
   "metadata": {},
   "outputs": [],
   "source": [
    "import requests\n",
    "from pprint import pprint"
   ]
  },
  {
   "cell_type": "code",
   "execution_count": 20,
   "id": "c09c29ee",
   "metadata": {},
   "outputs": [],
   "source": [
    "endpoint = \"GetResultsByLocation\"\n",
    "\n",
    "url = fr\"https://api.healthdata.org/sdg/v1/{endpoint}\"\n",
    "\n",
    "params = {\"location_id\": 102, \"indicator_id\": 1000, \"year\": 2024, \"sex_id\": 3, \"age_group_id\": 22, \"scenario\": 0}\n",
    "#\n",
    "# params = {}\n",
    "headers = {'Content-Type': 'application/json', 'Authorization': '0u71itrqlwvjl68wuf81rvbeoeq297zt'}"
   ]
  },
  {
   "cell_type": "code",
   "execution_count": 21,
   "id": "fc685130",
   "metadata": {},
   "outputs": [],
   "source": [
    "response = requests.get(url, params=params, headers=headers)\n",
    "\n",
    "response_json = response.json()"
   ]
  },
  {
   "cell_type": "code",
   "execution_count": 22,
   "id": "d55ec1e0",
   "metadata": {},
   "outputs": [
    {
     "name": "stdout",
     "output_type": "stream",
     "text": [
      "{'meta': {'api_version': '1'},\n",
      " 'results': [{'age_group_id': 22,\n",
      "              'age_group_name': 'All Ages',\n",
      "              'indicator_description': 'Age-standardized rate of new HIV '\n",
      "                                       'infections (per 1,000).',\n",
      "              'indicator_id': 1000,\n",
      "              'indicator_name': 'HIV incidence rate',\n",
      "              'indicator_short': 'HIV Incid',\n",
      "              'location_id': 102,\n",
      "              'location_name': 'United States of America',\n",
      "              'mean_estimate': '0.168834243904607',\n",
      "              'scenario': 0,\n",
      "              'scenario_label': 'Reference',\n",
      "              'sex_id': 3,\n",
      "              'sex_label': 'Both sexes',\n",
      "              'year_id': 2024}]}\n"
     ]
    }
   ],
   "source": [
    "pprint(response_json)"
   ]
  },
  {
   "cell_type": "code",
   "execution_count": 7,
   "id": "cc1972f0",
   "metadata": {},
   "outputs": [],
   "source": [
    "import pycountry\n",
    "ihme_names = [loc[\"location_name\"] for loc in response_json[\"results\"]]\n",
    "pycountry_names = [country.name for country in list(pycountry.countries)]"
   ]
  },
  {
   "cell_type": "code",
   "execution_count": 13,
   "id": "d67ed93a",
   "metadata": {},
   "outputs": [
    {
     "name": "stdout",
     "output_type": "stream",
     "text": [
      "['Afghanistan',\n",
      " 'Albania',\n",
      " 'Algeria',\n",
      " 'American Samoa',\n",
      " 'Andorra',\n",
      " 'Angola',\n",
      " 'Antigua and Barbuda',\n",
      " 'Argentina',\n",
      " 'Armenia',\n",
      " 'Australia',\n",
      " 'Austria',\n",
      " 'Azerbaijan',\n",
      " 'Bahamas',\n",
      " 'Bahrain',\n",
      " 'Bangladesh',\n",
      " 'Barbados',\n",
      " 'Belarus',\n",
      " 'Belgium',\n",
      " 'Belize',\n",
      " 'Benin',\n",
      " 'Bermuda',\n",
      " 'Bhutan',\n",
      " 'Bosnia and Herzegovina',\n",
      " 'Botswana',\n",
      " 'Brazil',\n",
      " 'Brunei Darussalam',\n",
      " 'Bulgaria',\n",
      " 'Burkina Faso',\n",
      " 'Burundi',\n",
      " 'Cabo Verde',\n",
      " 'Cambodia',\n",
      " 'Cameroon',\n",
      " 'Canada',\n",
      " 'Central African Republic',\n",
      " 'Chad',\n",
      " 'Chile',\n",
      " 'China',\n",
      " 'Colombia',\n",
      " 'Comoros',\n",
      " 'Congo',\n",
      " 'Cook Islands',\n",
      " 'Costa Rica',\n",
      " 'Croatia',\n",
      " 'Cuba',\n",
      " 'Cyprus',\n",
      " 'Czechia',\n",
      " \"Côte d'Ivoire\",\n",
      " 'Denmark',\n",
      " 'Djibouti',\n",
      " 'Dominica',\n",
      " 'Dominican Republic',\n",
      " 'Ecuador',\n",
      " 'Egypt',\n",
      " 'El Salvador',\n",
      " 'Equatorial Guinea',\n",
      " 'Eritrea',\n",
      " 'Estonia',\n",
      " 'Eswatini',\n",
      " 'Ethiopia',\n",
      " 'Fiji',\n",
      " 'Finland',\n",
      " 'France',\n",
      " 'Gabon',\n",
      " 'Gambia',\n",
      " 'Georgia',\n",
      " 'Germany',\n",
      " 'Ghana',\n",
      " 'Greece',\n",
      " 'Greenland',\n",
      " 'Grenada',\n",
      " 'Guam',\n",
      " 'Guatemala',\n",
      " 'Guinea',\n",
      " 'Guinea-Bissau',\n",
      " 'Guyana',\n",
      " 'Haiti',\n",
      " 'Honduras',\n",
      " 'Hungary',\n",
      " 'Iceland',\n",
      " 'India',\n",
      " 'Indonesia',\n",
      " 'Iraq',\n",
      " 'Ireland',\n",
      " 'Israel',\n",
      " 'Italy',\n",
      " 'Jamaica',\n",
      " 'Japan',\n",
      " 'Jordan',\n",
      " 'Kazakhstan',\n",
      " 'Kenya',\n",
      " 'Kiribati',\n",
      " 'Kuwait',\n",
      " 'Kyrgyzstan',\n",
      " \"Lao People's Democratic Republic\",\n",
      " 'Latvia',\n",
      " 'Lebanon',\n",
      " 'Lesotho',\n",
      " 'Liberia',\n",
      " 'Libya',\n",
      " 'Lithuania',\n",
      " 'Luxembourg',\n",
      " 'Madagascar',\n",
      " 'Malawi',\n",
      " 'Malaysia',\n",
      " 'Maldives',\n",
      " 'Mali',\n",
      " 'Malta',\n",
      " 'Marshall Islands',\n",
      " 'Mauritania',\n",
      " 'Mauritius',\n",
      " 'Mexico',\n",
      " 'Mongolia',\n",
      " 'Montenegro',\n",
      " 'Morocco',\n",
      " 'Mozambique',\n",
      " 'Myanmar',\n",
      " 'Namibia',\n",
      " 'Nauru',\n",
      " 'Nepal',\n",
      " 'Netherlands',\n",
      " 'New Zealand',\n",
      " 'Nicaragua',\n",
      " 'Niger',\n",
      " 'Nigeria',\n",
      " 'Niue',\n",
      " 'North Macedonia',\n",
      " 'Northern Mariana Islands',\n",
      " 'Norway',\n",
      " 'Oman',\n",
      " 'Pakistan',\n",
      " 'Palau',\n",
      " 'Panama',\n",
      " 'Papua New Guinea',\n",
      " 'Paraguay',\n",
      " 'Peru',\n",
      " 'Philippines',\n",
      " 'Poland',\n",
      " 'Portugal',\n",
      " 'Puerto Rico',\n",
      " 'Qatar',\n",
      " 'Romania',\n",
      " 'Russian Federation',\n",
      " 'Rwanda',\n",
      " 'Saint Kitts and Nevis',\n",
      " 'Saint Lucia',\n",
      " 'Saint Vincent and the Grenadines',\n",
      " 'Samoa',\n",
      " 'San Marino',\n",
      " 'Sao Tome and Principe',\n",
      " 'Saudi Arabia',\n",
      " 'Senegal',\n",
      " 'Serbia',\n",
      " 'Seychelles',\n",
      " 'Sierra Leone',\n",
      " 'Singapore',\n",
      " 'Slovakia',\n",
      " 'Slovenia',\n",
      " 'Solomon Islands',\n",
      " 'Somalia',\n",
      " 'South Africa',\n",
      " 'South Sudan',\n",
      " 'Spain',\n",
      " 'Sri Lanka',\n",
      " 'Sudan',\n",
      " 'Suriname',\n",
      " 'Sweden',\n",
      " 'Switzerland',\n",
      " 'Syrian Arab Republic',\n",
      " 'Tajikistan',\n",
      " 'Thailand',\n",
      " 'Timor-Leste',\n",
      " 'Togo',\n",
      " 'Tokelau',\n",
      " 'Tonga',\n",
      " 'Trinidad and Tobago',\n",
      " 'Tunisia',\n",
      " 'Turkmenistan',\n",
      " 'Tuvalu',\n",
      " 'Uganda',\n",
      " 'Ukraine',\n",
      " 'United Arab Emirates',\n",
      " 'United Kingdom',\n",
      " 'Uruguay',\n",
      " 'Uzbekistan',\n",
      " 'Vanuatu',\n",
      " 'Viet Nam',\n",
      " 'Yemen',\n",
      " 'Zambia',\n",
      " 'Zimbabwe']\n"
     ]
    }
   ],
   "source": [
    "combined = []\n",
    "\n",
    "for i in ihme_names:\n",
    "    if i in pycountry_names:\n",
    "        combined.append(i)\n",
    "\n",
    "pprint(combined)"
   ]
  },
  {
   "cell_type": "code",
   "execution_count": 6,
   "id": "fab6b612",
   "metadata": {},
   "outputs": [],
   "source": [
    "from src import ihme_api"
   ]
  },
  {
   "cell_type": "code",
   "execution_count": 7,
   "id": "e2d13be5",
   "metadata": {},
   "outputs": [
    {
     "data": {
      "text/plain": [
       "{'JP': 67, 'NO': 90, 'GB': 95}"
      ]
     },
     "execution_count": 7,
     "metadata": {},
     "output_type": "execute_result"
    }
   ],
   "source": [
    "countries = [\"Norway\", \"Japan\", \"United Kingdom\"]\n",
    "\n",
    "location_ids = ihme_api.get_location_ids(countries)\n",
    "location_ids"
   ]
  },
  {
   "cell_type": "code",
   "execution_count": 8,
   "id": "c973987d",
   "metadata": {},
   "outputs": [
    {
     "data": {
      "text/plain": [
       "defaultdict(int,\n",
       "            {'JP': 13.480411061218586,\n",
       "             'NO': 3.212442548862098,\n",
       "             'GB': 6.418017280400431})"
      ]
     },
     "execution_count": 8,
     "metadata": {},
     "output_type": "execute_result"
    }
   ],
   "source": [
    "from collections import defaultdict\n",
    "\n",
    "values = defaultdict(int)\n",
    "\n",
    "for iso, id in location_ids.items():\n",
    "    values[iso] = ihme_api.get_target(location_id=id)\n",
    "\n",
    "values"
   ]
  }
 ],
 "metadata": {
  "kernelspec": {
   "display_name": ".venv",
   "language": "python",
   "name": "python3"
  },
  "language_info": {
   "codemirror_mode": {
    "name": "ipython",
    "version": 3
   },
   "file_extension": ".py",
   "mimetype": "text/x-python",
   "name": "python",
   "nbconvert_exporter": "python",
   "pygments_lexer": "ipython3",
   "version": "3.13.3"
  }
 },
 "nbformat": 4,
 "nbformat_minor": 5
}
