{
 "cells": [
  {
   "cell_type": "code",
   "execution_count": 1,
   "id": "58a0b5fd",
   "metadata": {},
   "outputs": [
    {
     "data": {
      "text/plain": [
       "WindowsPath('C:/Users/chris/Desktop/GitHub/air-quiality-vs-illness')"
      ]
     },
     "execution_count": 1,
     "metadata": {},
     "output_type": "execute_result"
    }
   ],
   "source": [
    "import sys\n",
    "from pathlib import Path\n",
    "import os\n",
    "\n",
    "repo_root_dir: Path = Path().resolve().parent\n",
    "sys.path.append(str(repo_root_dir))\n",
    "repo_root_dir"
   ]
  },
  {
   "cell_type": "code",
   "execution_count": 2,
   "id": "3d2b8d61",
   "metadata": {},
   "outputs": [],
   "source": [
    "import requests\n",
    "from pprint import pprint"
   ]
  },
  {
   "cell_type": "code",
   "execution_count": 3,
   "id": "c09c29ee",
   "metadata": {},
   "outputs": [],
   "source": [
    "endpoint = \"GetResultsByLocation\"\n",
    "\n",
    "url = fr\"https://api.healthdata.org/sdg/v1/{endpoint}\"\n",
    "\n",
    "params = {\"location_id\": 102, \"indicator_id\": 1001, \"year\": 2024, \"sex_id\": 3, \"age_group_id\": 22, \"scenario\": 0}\n",
    "#params = {}\n",
    "headers = {'Content-Type': 'application/json', 'Authorization': '0u71itrqlwvjl68wuf81rvbeoeq297zt'}"
   ]
  },
  {
   "cell_type": "code",
   "execution_count": 24,
   "id": "fc685130",
   "metadata": {},
   "outputs": [],
   "source": [
    "response = requests.get(url, params=params, headers=headers)\n",
    "\n",
    "response_json = response.json()"
   ]
  },
  {
   "cell_type": "code",
   "execution_count": 25,
   "id": "d55ec1e0",
   "metadata": {},
   "outputs": [
    {
     "name": "stdout",
     "output_type": "stream",
     "text": [
      "{'meta': {'api_version': '1'},\n",
      " 'results': [{'age_group_id': 22,\n",
      "              'age_group_name': 'All Ages',\n",
      "              'indicator_description': 'Age-standardized rate of tuberculosis '\n",
      "                                       'cases (per 100,000).',\n",
      "              'indicator_id': 1001,\n",
      "              'indicator_name': 'Tuberculosis incidence rate',\n",
      "              'indicator_short': 'TB Incid',\n",
      "              'location_id': 102,\n",
      "              'location_name': 'United States of America',\n",
      "              'mean_estimate': '2.576505862232704',\n",
      "              'scenario': 0,\n",
      "              'scenario_label': 'Reference',\n",
      "              'sex_id': 3,\n",
      "              'sex_label': 'Both sexes',\n",
      "              'year_id': 2024}]}\n"
     ]
    }
   ],
   "source": [
    "pprint(response_json)"
   ]
  },
  {
   "cell_type": "code",
   "execution_count": 4,
   "id": "fab6b612",
   "metadata": {},
   "outputs": [],
   "source": [
    "from src import ihme_api"
   ]
  },
  {
   "cell_type": "code",
   "execution_count": null,
   "id": "e2d13be5",
   "metadata": {},
   "outputs": [],
   "source": [
    "countries = [\"Norway\", \"Japan\", \"United Kingdom\"]"
   ]
  }
 ],
 "metadata": {
  "kernelspec": {
   "display_name": ".venv",
   "language": "python",
   "name": "python3"
  },
  "language_info": {
   "codemirror_mode": {
    "name": "ipython",
    "version": 3
   },
   "file_extension": ".py",
   "mimetype": "text/x-python",
   "name": "python",
   "nbconvert_exporter": "python",
   "pygments_lexer": "ipython3",
   "version": "3.13.3"
  }
 },
 "nbformat": 4,
 "nbformat_minor": 5
}
