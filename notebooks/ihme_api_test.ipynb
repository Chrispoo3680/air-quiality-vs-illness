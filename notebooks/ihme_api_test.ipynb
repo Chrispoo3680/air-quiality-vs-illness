{
 "cells": [
  {
   "cell_type": "code",
   "execution_count": 8,
   "id": "3d2b8d61",
   "metadata": {},
   "outputs": [],
   "source": [
    "import requests\n",
    "from pprint import pprint"
   ]
  },
  {
   "cell_type": "code",
   "execution_count": null,
   "id": "c09c29ee",
   "metadata": {},
   "outputs": [],
   "source": [
    "endpoint = \"GetLocation\"\n",
    "\n",
    "url = fr\"https://api.healthdata.org/sdg/v1/{endpoint}\"\n",
    "\n",
    "params = {\"location_id\": \"27\", \"year\": \"2004\"}\n",
    "params = {}\n",
    "headers = {'Content-Type': 'application/json', 'Authorization': '0u71itrqlwvjl68wuf81rvbeoeq297zt'}"
   ]
  },
  {
   "cell_type": "code",
   "execution_count": 19,
   "id": "fc685130",
   "metadata": {},
   "outputs": [
    {
     "name": "stdout",
     "output_type": "stream",
     "text": [
      "{'meta': {'api_version': '1'},\n",
      " 'results': [{'location_id': 27, 'location_name': 'Samoa'}]}\n"
     ]
    }
   ],
   "source": [
    "response = requests.get(url, params=params, headers=headers)\n",
    "\n",
    "pprint(response.json())"
   ]
  },
  {
   "cell_type": "code",
   "execution_count": null,
   "id": "d55ec1e0",
   "metadata": {},
   "outputs": [],
   "source": []
  }
 ],
 "metadata": {
  "kernelspec": {
   "display_name": ".venv",
   "language": "python",
   "name": "python3"
  },
  "language_info": {
   "codemirror_mode": {
    "name": "ipython",
    "version": 3
   },
   "file_extension": ".py",
   "mimetype": "text/x-python",
   "name": "python",
   "nbconvert_exporter": "python",
   "pygments_lexer": "ipython3",
   "version": "3.13.3"
  }
 },
 "nbformat": 4,
 "nbformat_minor": 5
}
