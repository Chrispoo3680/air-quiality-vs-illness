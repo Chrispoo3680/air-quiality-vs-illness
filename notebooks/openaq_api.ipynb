{
 "cells": [
  {
   "cell_type": "code",
   "execution_count": 127,
   "id": "0c2d8fb7",
   "metadata": {},
   "outputs": [],
   "source": [
    "import requests\n",
    "import pandas as pd"
   ]
  },
  {
   "cell_type": "code",
   "execution_count": 128,
   "id": "029e5f33",
   "metadata": {},
   "outputs": [],
   "source": [
    "OPENAQ_API_KEY = \"2df1e1ad492dbcc9293e82253f0ddffca796f334d424d0c1765e827c87a219ea\"\n",
    "\n",
    "BASE_URL = \"https://api.openaq.org/v3/\""
   ]
  },
  {
   "cell_type": "code",
   "execution_count": 129,
   "id": "c06fb67e",
   "metadata": {},
   "outputs": [],
   "source": [
    "headers = {\n",
    "    \"X-API-Key\": OPENAQ_API_KEY\n",
    "}"
   ]
  },
  {
   "cell_type": "code",
   "execution_count": 130,
   "id": "a9ffdb22",
   "metadata": {},
   "outputs": [],
   "source": [
    "endpoint_parameters = f\"{BASE_URL}parameters\"\n",
    "endpoint_locations = f\"{BASE_URL}locations\""
   ]
  },
  {
   "cell_type": "code",
   "execution_count": 131,
   "id": "9ae3f9cb",
   "metadata": {},
   "outputs": [],
   "source": [
    "major_us_cities = [\n",
    "    \"Los Angeles\", \"New York\", \"Chicago\", \"Houston\", \"Phoenix\",\n",
    "    \"Philadelphia\", \"San Antonio\", \"San Diego\", \"Dallas\", \"San Jose\"\n",
    "]\n"
   ]
  },
  {
   "cell_type": "code",
   "execution_count": 132,
   "id": "12c66fda",
   "metadata": {},
   "outputs": [],
   "source": [
    "parameters_params = {\n",
    "    \"limit\": 10,\n",
    "}"
   ]
  },
  {
   "cell_type": "markdown",
   "id": "7d67d5c9",
   "metadata": {},
   "source": [
    "get_parameters is used for getting the unit used for measuring respective data"
   ]
  },
  {
   "cell_type": "code",
   "execution_count": 133,
   "id": "84523e5e",
   "metadata": {},
   "outputs": [],
   "source": [
    "def get_parameters():\n",
    "    response = requests.get(endpoint_parameters, headers=headers, params=parameters_params)\n",
    "    if response.status_code == 200:\n",
    "        data = response.json()\n",
    "        para_df = pd.DataFrame(data['results'])\n",
    "        print(\"Parameters:\")\n",
    "        print(para_df)\n",
    "        return para_df\n",
    "    else:\n",
    "        print(f\"Error: {response.status_code} - {response.text}\")\n",
    "        return pd.DataFrame()"
   ]
  },
  {
   "cell_type": "code",
   "execution_count": 134,
   "id": "5f4d91bf",
   "metadata": {},
   "outputs": [],
   "source": [
    "def get_locations():\n",
    "    all_cities_with_data = []\n",
    "\n",
    "    for city in major_us_cities:\n",
    "        params = {\"country\": \"US\", \"limit\": 5, \"page\": 1}\n",
    "        response = requests.get(endpoint_locations, headers=headers, params=params)\n",
    "        data = response.json()\n",
    "    \n",
    "        if \"results\" in data:\n",
    "            matching = [loc for loc in data[\"results\"] if loc[\"locality\"] == city]\n",
    "        if matching:\n",
    "            all_cities_with_data.append(pd.DataFrame(matching))\n",
    "\n",
    "        else:\n",
    "            # print(f\"Error: {response.status_code} - {response.text}\")\n",
    "            pass\n",
    "    if all_cities_with_data:\n",
    "        all_cities_df = pd.concat(all_cities_with_data, ignore_index=True)\n",
    "        print(\"Locations:\")\n",
    "        print(all_cities_df)\n",
    "    else:\n",
    "        print(\"No locations found for the specified cities.\")\n",
    "        return pd.DataFrame()"
   ]
  },
  {
   "cell_type": "code",
   "execution_count": 135,
   "id": "0383b30f",
   "metadata": {},
   "outputs": [],
   "source": [
    "def main():\n",
    "    get_parameters()\n",
    "    get_locations()"
   ]
  },
  {
   "cell_type": "code",
   "execution_count": 136,
   "id": "6ca7ca51",
   "metadata": {},
   "outputs": [
    {
     "name": "stdout",
     "output_type": "stream",
     "text": [
      "Parameters:\n",
      "   id  name  units displayName  \\\n",
      "0   1  pm10  µg/m³        PM10   \n",
      "1   2  pm25  µg/m³       PM2.5   \n",
      "2   3    o3  µg/m³     O₃ mass   \n",
      "3   4    co  µg/m³     CO mass   \n",
      "4   5   no2  µg/m³    NO₂ mass   \n",
      "5   6   so2  µg/m³    SO₂ mass   \n",
      "6   7   no2    ppm         NO₂   \n",
      "7   8    co    ppm          CO   \n",
      "8   9   so2    ppm         SO₂   \n",
      "9  10    o3    ppm          O₃   \n",
      "\n",
      "                                         description  \n",
      "0  Particulate matter less than 10 micrometers in...  \n",
      "1  Particulate matter less than 2.5 micrometers i...  \n",
      "2                           Ozone mass concentration  \n",
      "3                 Carbon Monoxide mass concentration  \n",
      "4                Nitrogen Dioxide mass concentration  \n",
      "5                  Sulfur Dioxide mass concentration  \n",
      "6                     Nitrogen Dioxide concentration  \n",
      "7                      Carbon Monoxide concentration  \n",
      "8                       Sulfur Dioxide concentration  \n",
      "9                                Ozone concentration  \n",
      "No locations found for the specified cities.\n"
     ]
    }
   ],
   "source": [
    "if __name__ == \"__main__\":\n",
    "    main()"
   ]
  },
  {
   "cell_type": "markdown",
   "id": "80b40114",
   "metadata": {},
   "source": [
    "Code not working."
   ]
  }
 ],
 "metadata": {
  "kernelspec": {
   "display_name": "Python (.venv - air-quality-vs-illness)",
   "language": "python",
   "name": "air-quality-vs-illness"
  },
  "language_info": {
   "codemirror_mode": {
    "name": "ipython",
    "version": 3
   },
   "file_extension": ".py",
   "mimetype": "text/x-python",
   "name": "python",
   "nbconvert_exporter": "python",
   "pygments_lexer": "ipython3",
   "version": "3.13.3"
  }
 },
 "nbformat": 4,
 "nbformat_minor": 5
}
