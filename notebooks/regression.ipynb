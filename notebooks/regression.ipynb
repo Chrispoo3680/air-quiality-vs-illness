{
 "cells": [
  {
   "cell_type": "code",
   "execution_count": 1,
   "metadata": {},
   "outputs": [
    {
     "data": {
      "text/plain": [
       "'2.7.0+cpu'"
      ]
     },
     "execution_count": 1,
     "metadata": {},
     "output_type": "execute_result"
    }
   ],
   "source": [
    "import torch\n",
    "from torch import nn\n",
    "from torch import GradScaler\n",
    "from torch.utils.data import random_split, DataLoader, Dataset\n",
    "\n",
    "import matplotlib.pyplot as plt\n",
    "import seaborn as sns\n",
    "import pandas as pd\n",
    "import sys\n",
    "import os\n",
    "from pathlib import Path\n",
    "\n",
    "from tqdm.auto import tqdm\n",
    "\n",
    "torch.manual_seed(0)\n",
    "torch.__version__"
   ]
  },
  {
   "cell_type": "code",
   "execution_count": 2,
   "metadata": {},
   "outputs": [
    {
     "data": {
      "text/plain": [
       "device(type='cpu')"
      ]
     },
     "execution_count": 2,
     "metadata": {},
     "output_type": "execute_result"
    }
   ],
   "source": [
    "device = torch.device(\"cuda\") if torch.cuda.is_available() else torch.device(\"cpu\")\n",
    "device"
   ]
  },
  {
   "cell_type": "markdown",
   "metadata": {},
   "source": [
    "### Prepare Data\n"
   ]
  },
  {
   "cell_type": "code",
   "execution_count": 3,
   "metadata": {},
   "outputs": [],
   "source": [
    "class CSVDataset(Dataset):\n",
    "    def __init__(self, path: str, features_keys: list[str], target_keys: list[str]):\n",
    "        super().__init__()\n",
    "\n",
    "        df = pd.read_csv(path, sep=\";\")\n",
    "\n",
    "        self.values = torch.tensor(\n",
    "            list(zip(*[df[key].to_list() for key in features_keys])),\n",
    "            dtype=torch.float32,\n",
    "        )\n",
    "        self.targets = torch.tensor(\n",
    "            list(zip(*[df[key].to_list() for key in target_keys])), dtype=torch.float32\n",
    "        )\n",
    "\n",
    "        self.samples = [(val, targ) for val, targ in zip(self.values, self.targets)]\n",
    "\n",
    "    def __getitem__(self, index: int):\n",
    "        return self.values[index], self.targets[index]\n",
    "\n",
    "    def __len__(self):\n",
    "        return len(self.samples)"
   ]
  },
  {
   "cell_type": "code",
   "execution_count": 4,
   "metadata": {},
   "outputs": [],
   "source": [
    "class DataframeDataset(Dataset):\n",
    "    def __init__(self, df: pd.DataFrame):\n",
    "        super().__init__()\n",
    "\n",
    "        self.values = torch.tensor([[i] for i in df[\"x\"]], dtype=torch.float32)\n",
    "        self.targets = torch.tensor([[i] for i in df[\"y\"]], dtype=torch.float32)\n",
    "\n",
    "        self.samples = [(val, targ) for val, targ in zip(self.values, self.targets)]\n",
    "\n",
    "    def __getitem__(self, index: int):\n",
    "        return self.values[index], self.targets[index]\n",
    "\n",
    "    def __len__(self):\n",
    "        return len(self.samples)"
   ]
  },
  {
   "cell_type": "code",
   "execution_count": 5,
   "metadata": {},
   "outputs": [],
   "source": [
    "class LogisticFuncDataset(Dataset):\n",
    "    def __init__(self, x_start=-10, x_end=10, steps=1000, C=10, a=1, b=1):\n",
    "        super().__init__()\n",
    "\n",
    "        self.values = torch.linspace(x_start, x_end, steps)\n",
    "        self.labels = C / (1 + (torch.e ** (-b * self.values)))\n",
    "\n",
    "    def __getitem__(self, index: int):\n",
    "        return self.values[index], self.labels[index]\n",
    "\n",
    "    def __len__(self):\n",
    "        return len(self.values)"
   ]
  },
  {
   "cell_type": "code",
   "execution_count": 6,
   "metadata": {},
   "outputs": [],
   "source": [
    "health_parameter = \"tuberculosis\"\n",
    "aq_parameter = \"pm25\""
   ]
  },
  {
   "cell_type": "code",
   "execution_count": 7,
   "metadata": {},
   "outputs": [
    {
     "data": {
      "text/html": [
       "<div>\n",
       "<style scoped>\n",
       "    .dataframe tbody tr th:only-of-type {\n",
       "        vertical-align: middle;\n",
       "    }\n",
       "\n",
       "    .dataframe tbody tr th {\n",
       "        vertical-align: top;\n",
       "    }\n",
       "\n",
       "    .dataframe thead th {\n",
       "        text-align: right;\n",
       "    }\n",
       "</style>\n",
       "<table border=\"1\" class=\"dataframe\">\n",
       "  <thead>\n",
       "    <tr style=\"text-align: right;\">\n",
       "      <th></th>\n",
       "      <th>tuberculosis</th>\n",
       "      <th>hiv</th>\n",
       "      <th>pm25</th>\n",
       "      <th>co</th>\n",
       "      <th>no2</th>\n",
       "      <th>pm1</th>\n",
       "      <th>pm10</th>\n",
       "      <th>o3</th>\n",
       "      <th>so2</th>\n",
       "    </tr>\n",
       "    <tr>\n",
       "      <th>country</th>\n",
       "      <th></th>\n",
       "      <th></th>\n",
       "      <th></th>\n",
       "      <th></th>\n",
       "      <th></th>\n",
       "      <th></th>\n",
       "      <th></th>\n",
       "      <th></th>\n",
       "      <th></th>\n",
       "    </tr>\n",
       "  </thead>\n",
       "  <tbody>\n",
       "    <tr>\n",
       "      <th>GH</th>\n",
       "      <td>172.153</td>\n",
       "      <td>0.698</td>\n",
       "      <td>NaN</td>\n",
       "      <td>NaN</td>\n",
       "      <td>NaN</td>\n",
       "      <td>18.900</td>\n",
       "      <td>29.700</td>\n",
       "      <td>NaN</td>\n",
       "      <td>NaN</td>\n",
       "    </tr>\n",
       "    <tr>\n",
       "      <th>ID</th>\n",
       "      <td>181.659</td>\n",
       "      <td>0.034</td>\n",
       "      <td>NaN</td>\n",
       "      <td>NaN</td>\n",
       "      <td>NaN</td>\n",
       "      <td>28.050</td>\n",
       "      <td>51.750</td>\n",
       "      <td>NaN</td>\n",
       "      <td>NaN</td>\n",
       "    </tr>\n",
       "    <tr>\n",
       "      <th>NP</th>\n",
       "      <td>135.358</td>\n",
       "      <td>0.025</td>\n",
       "      <td>NaN</td>\n",
       "      <td>NaN</td>\n",
       "      <td>NaN</td>\n",
       "      <td>34.700</td>\n",
       "      <td>62.900</td>\n",
       "      <td>NaN</td>\n",
       "      <td>NaN</td>\n",
       "    </tr>\n",
       "    <tr>\n",
       "      <th>AU</th>\n",
       "      <td>4.528</td>\n",
       "      <td>0.068</td>\n",
       "      <td>2.39</td>\n",
       "      <td>0.171</td>\n",
       "      <td>0.009</td>\n",
       "      <td>4.817</td>\n",
       "      <td>12.513</td>\n",
       "      <td>0.648</td>\n",
       "      <td>0.001</td>\n",
       "    </tr>\n",
       "    <tr>\n",
       "      <th>MU</th>\n",
       "      <td>18.231</td>\n",
       "      <td>0.154</td>\n",
       "      <td>2.57</td>\n",
       "      <td>NaN</td>\n",
       "      <td>NaN</td>\n",
       "      <td>0.801</td>\n",
       "      <td>2.165</td>\n",
       "      <td>NaN</td>\n",
       "      <td>NaN</td>\n",
       "    </tr>\n",
       "    <tr>\n",
       "      <th>...</th>\n",
       "      <td>...</td>\n",
       "      <td>...</td>\n",
       "      <td>...</td>\n",
       "      <td>...</td>\n",
       "      <td>...</td>\n",
       "      <td>...</td>\n",
       "      <td>...</td>\n",
       "      <td>...</td>\n",
       "      <td>...</td>\n",
       "    </tr>\n",
       "    <tr>\n",
       "      <th>TD</th>\n",
       "      <td>174.053</td>\n",
       "      <td>0.391</td>\n",
       "      <td>72.20</td>\n",
       "      <td>NaN</td>\n",
       "      <td>NaN</td>\n",
       "      <td>NaN</td>\n",
       "      <td>NaN</td>\n",
       "      <td>NaN</td>\n",
       "      <td>NaN</td>\n",
       "    </tr>\n",
       "    <tr>\n",
       "      <th>BD</th>\n",
       "      <td>115.480</td>\n",
       "      <td>0.010</td>\n",
       "      <td>92.80</td>\n",
       "      <td>NaN</td>\n",
       "      <td>NaN</td>\n",
       "      <td>NaN</td>\n",
       "      <td>NaN</td>\n",
       "      <td>NaN</td>\n",
       "      <td>NaN</td>\n",
       "    </tr>\n",
       "    <tr>\n",
       "      <th>DK</th>\n",
       "      <td>2.739</td>\n",
       "      <td>0.032</td>\n",
       "      <td>NaN</td>\n",
       "      <td>181.500</td>\n",
       "      <td>7.801</td>\n",
       "      <td>NaN</td>\n",
       "      <td>11.300</td>\n",
       "      <td>58.240</td>\n",
       "      <td>NaN</td>\n",
       "    </tr>\n",
       "    <tr>\n",
       "      <th>IN</th>\n",
       "      <td>212.643</td>\n",
       "      <td>0.041</td>\n",
       "      <td>NaN</td>\n",
       "      <td>NaN</td>\n",
       "      <td>NaN</td>\n",
       "      <td>67.500</td>\n",
       "      <td>NaN</td>\n",
       "      <td>NaN</td>\n",
       "      <td>NaN</td>\n",
       "    </tr>\n",
       "    <tr>\n",
       "      <th>SM</th>\n",
       "      <td>1.988</td>\n",
       "      <td>0.015</td>\n",
       "      <td>NaN</td>\n",
       "      <td>NaN</td>\n",
       "      <td>4.960</td>\n",
       "      <td>NaN</td>\n",
       "      <td>NaN</td>\n",
       "      <td>65.400</td>\n",
       "      <td>NaN</td>\n",
       "    </tr>\n",
       "  </tbody>\n",
       "</table>\n",
       "<p>84 rows × 9 columns</p>\n",
       "</div>"
      ],
      "text/plain": [
       "         tuberculosis    hiv   pm25       co    no2     pm1    pm10      o3  \\\n",
       "country                                                                       \n",
       "GH            172.153  0.698    NaN      NaN    NaN  18.900  29.700     NaN   \n",
       "ID            181.659  0.034    NaN      NaN    NaN  28.050  51.750     NaN   \n",
       "NP            135.358  0.025    NaN      NaN    NaN  34.700  62.900     NaN   \n",
       "AU              4.528  0.068   2.39    0.171  0.009   4.817  12.513   0.648   \n",
       "MU             18.231  0.154   2.57      NaN    NaN   0.801   2.165     NaN   \n",
       "...               ...    ...    ...      ...    ...     ...     ...     ...   \n",
       "TD            174.053  0.391  72.20      NaN    NaN     NaN     NaN     NaN   \n",
       "BD            115.480  0.010  92.80      NaN    NaN     NaN     NaN     NaN   \n",
       "DK              2.739  0.032    NaN  181.500  7.801     NaN  11.300  58.240   \n",
       "IN            212.643  0.041    NaN      NaN    NaN  67.500     NaN     NaN   \n",
       "SM              1.988  0.015    NaN      NaN  4.960     NaN     NaN  65.400   \n",
       "\n",
       "           so2  \n",
       "country         \n",
       "GH         NaN  \n",
       "ID         NaN  \n",
       "NP         NaN  \n",
       "AU       0.001  \n",
       "MU         NaN  \n",
       "...        ...  \n",
       "TD         NaN  \n",
       "BD         NaN  \n",
       "DK         NaN  \n",
       "IN         NaN  \n",
       "SM         NaN  \n",
       "\n",
       "[84 rows x 9 columns]"
      ]
     },
     "execution_count": 7,
     "metadata": {},
     "output_type": "execute_result"
    }
   ],
   "source": [
    "health_df = pd.read_csv(\"../data/ihme_data.csv\")\n",
    "\n",
    "sensor_df = pd.read_csv(\"../data/openaq_data.csv\")\n",
    "sensor_df.dropna(axis=0, how=\"all\", inplace=True)\n",
    "\n",
    "df = pd.merge(health_df, sensor_df)\n",
    "\n",
    "df.sort_values(aq_parameter, inplace=True)\n",
    "df.set_index(\"country\", inplace=True)\n",
    "\n",
    "df[df < 0] = None\n",
    "df = df.dropna(how=\"all\", subset=[\"pm1\", \"pm10\", \"pm25\", \"co\", \"no2\", \"o3\", \"so2\"])\n",
    "df[df[\"tuberculosis\"] > 500] = None\n",
    "df"
   ]
  },
  {
   "cell_type": "code",
   "execution_count": 8,
   "metadata": {},
   "outputs": [
    {
     "data": {
      "text/html": [
       "<div>\n",
       "<style scoped>\n",
       "    .dataframe tbody tr th:only-of-type {\n",
       "        vertical-align: middle;\n",
       "    }\n",
       "\n",
       "    .dataframe tbody tr th {\n",
       "        vertical-align: top;\n",
       "    }\n",
       "\n",
       "    .dataframe thead th {\n",
       "        text-align: right;\n",
       "    }\n",
       "</style>\n",
       "<table border=\"1\" class=\"dataframe\">\n",
       "  <thead>\n",
       "    <tr style=\"text-align: right;\">\n",
       "      <th></th>\n",
       "      <th>x</th>\n",
       "      <th>y</th>\n",
       "    </tr>\n",
       "    <tr>\n",
       "      <th>country</th>\n",
       "      <th></th>\n",
       "      <th></th>\n",
       "    </tr>\n",
       "  </thead>\n",
       "  <tbody>\n",
       "    <tr>\n",
       "      <th>AU</th>\n",
       "      <td>2.390</td>\n",
       "      <td>4.528</td>\n",
       "    </tr>\n",
       "    <tr>\n",
       "      <th>MU</th>\n",
       "      <td>2.570</td>\n",
       "      <td>18.231</td>\n",
       "    </tr>\n",
       "    <tr>\n",
       "      <th>NL</th>\n",
       "      <td>2.882</td>\n",
       "      <td>2.923</td>\n",
       "    </tr>\n",
       "    <tr>\n",
       "      <th>PT</th>\n",
       "      <td>3.184</td>\n",
       "      <td>9.244</td>\n",
       "    </tr>\n",
       "    <tr>\n",
       "      <th>IS</th>\n",
       "      <td>3.318</td>\n",
       "      <td>2.902</td>\n",
       "    </tr>\n",
       "    <tr>\n",
       "      <th>...</th>\n",
       "      <td>...</td>\n",
       "      <td>...</td>\n",
       "    </tr>\n",
       "    <tr>\n",
       "      <th>EG</th>\n",
       "      <td>47.600</td>\n",
       "      <td>8.858</td>\n",
       "    </tr>\n",
       "    <tr>\n",
       "      <th>IQ</th>\n",
       "      <td>48.100</td>\n",
       "      <td>20.370</td>\n",
       "    </tr>\n",
       "    <tr>\n",
       "      <th>PK</th>\n",
       "      <td>52.117</td>\n",
       "      <td>132.717</td>\n",
       "    </tr>\n",
       "    <tr>\n",
       "      <th>TD</th>\n",
       "      <td>72.200</td>\n",
       "      <td>174.053</td>\n",
       "    </tr>\n",
       "    <tr>\n",
       "      <th>BD</th>\n",
       "      <td>92.800</td>\n",
       "      <td>115.480</td>\n",
       "    </tr>\n",
       "  </tbody>\n",
       "</table>\n",
       "<p>77 rows × 2 columns</p>\n",
       "</div>"
      ],
      "text/plain": [
       "              x        y\n",
       "country                 \n",
       "AU        2.390    4.528\n",
       "MU        2.570   18.231\n",
       "NL        2.882    2.923\n",
       "PT        3.184    9.244\n",
       "IS        3.318    2.902\n",
       "...         ...      ...\n",
       "EG       47.600    8.858\n",
       "IQ       48.100   20.370\n",
       "PK       52.117  132.717\n",
       "TD       72.200  174.053\n",
       "BD       92.800  115.480\n",
       "\n",
       "[77 rows x 2 columns]"
      ]
     },
     "execution_count": 8,
     "metadata": {},
     "output_type": "execute_result"
    }
   ],
   "source": [
    "point_df = df[[aq_parameter, health_parameter]].dropna(how=\"any\")\n",
    "point_df.rename(columns={aq_parameter: \"x\", health_parameter: \"y\"}, inplace=True)\n",
    "\n",
    "dataset = DataframeDataset(point_df)\n",
    "point_df"
   ]
  },
  {
   "cell_type": "code",
   "execution_count": 9,
   "metadata": {},
   "outputs": [
    {
     "data": {
      "image/png": "[encoded data removed]",
      "text/plain": [
       "<Figure size 1500x800 with 1 Axes>"
      ]
     },
     "metadata": {},
     "output_type": "display_data"
    }
   ],
   "source": [
    "sns.set_theme()\n",
    "plt.figure(figsize=(15, 8))\n",
    "\n",
    "sns.scatterplot(x=dataset.values.squeeze(dim=1), y=dataset.targets.squeeze(dim=1), color=\"orange\")\n",
    "plt.show()"
   ]
  },
  {
   "cell_type": "code",
   "execution_count": 10,
   "metadata": {},
   "outputs": [
    {
     "name": "stdout",
     "output_type": "stream",
     "text": [
      "77\n",
      "0\n"
     ]
    }
   ],
   "source": [
    "train_size = int(1 * len(dataset))\n",
    "test_size = len(dataset) - train_size\n",
    "\n",
    "train_data, test_data = random_split(dataset, [train_size, test_size])\n",
    "\n",
    "print(f\"{len(train_data)}\\n{len(test_data)}\")"
   ]
  },
  {
   "cell_type": "code",
   "execution_count": 11,
   "metadata": {},
   "outputs": [
    {
     "name": "stdout",
     "output_type": "stream",
     "text": [
      "Creating DataLoader's with batch size 8.\n"
     ]
    },
    {
     "data": {
      "text/plain": [
       "(8, <torch.utils.data.dataloader.DataLoader at 0x17d020b9310>)"
      ]
     },
     "execution_count": 11,
     "metadata": {},
     "output_type": "execute_result"
    }
   ],
   "source": [
    "BATCH_SIZE = 8\n",
    "\n",
    "print(f\"Creating DataLoader's with batch size {BATCH_SIZE}.\")\n",
    "\n",
    "# Make dataset into dataloader\n",
    "train_dataloader = DataLoader(dataset=train_data, batch_size=BATCH_SIZE, shuffle=True)\n",
    "\n",
    "test_dataloader = DataLoader(dataset=test_data, batch_size=BATCH_SIZE, shuffle=False)\n",
    "\n",
    "train_dataloader.batch_size, test_dataloader"
   ]
  },
  {
   "cell_type": "markdown",
   "metadata": {},
   "source": [
    "### Building Model\n"
   ]
  },
  {
   "cell_type": "code",
   "execution_count": 12,
   "metadata": {},
   "outputs": [],
   "source": [
    "class RegressionModel(nn.Module):\n",
    "    def __init__(self, input_dim=1, output_dim=1, hidden_nodes=8):\n",
    "        super().__init__()\n",
    "\n",
    "        self.layer1 = nn.Linear(input_dim, hidden_nodes)\n",
    "        self.layer2 = nn.Linear(hidden_nodes, hidden_nodes)\n",
    "        self.layer3 = nn.Linear(hidden_nodes, hidden_nodes)\n",
    "        self.layer4 = nn.Linear(hidden_nodes, hidden_nodes)\n",
    "        self.layer5 = nn.Linear(hidden_nodes, output_dim)\n",
    "\n",
    "        self.activation = nn.ReLU()\n",
    "\n",
    "    def forward(self, x):\n",
    "        x = self.activation(self.layer1(x))\n",
    "        x = self.activation(self.layer2(x))\n",
    "        x = self.activation(self.layer3(x))\n",
    "        x = self.activation(self.layer4(x))\n",
    "        x = self.layer5(x)\n",
    "\n",
    "        return x"
   ]
  },
  {
   "cell_type": "code",
   "execution_count": 13,
   "metadata": {},
   "outputs": [],
   "source": [
    "class ExpRegressionModel(nn.Module):\n",
    "    def __init__(self):\n",
    "        super().__init__()\n",
    "\n",
    "        # Learnable parameters\n",
    "        self.a = nn.Parameter(torch.randn(1))  # a can be positive or negative\n",
    "        self.log_b = nn.Parameter(\n",
    "            torch.randn(1)\n",
    "        )  # Learning log_b instead of b directly\n",
    "\n",
    "    def forward(self, X):\n",
    "        b = torch.exp(self.log_b)  # Ensures b is always positive, allows b < 1\n",
    "        return self.a * torch.pow(b, X)  # a * b^x\n",
    "\n",
    "    def __str__(self):\n",
    "        return f\"$f(x) = {float(self.a):.3f} * {float(torch.exp(self.log_b)):.3f}^x$\""
   ]
  },
  {
   "cell_type": "code",
   "execution_count": 14,
   "metadata": {},
   "outputs": [],
   "source": [
    "class LogistRegressionModel(nn.Module):\n",
    "    def __init__(self):\n",
    "        super().__init__()\n",
    "\n",
    "        self.C = nn.Parameter(torch.randn(1))\n",
    "        self.log_a = nn.Parameter(torch.randn(1))\n",
    "        self.b = nn.Parameter(torch.randn(1))\n",
    "\n",
    "    def forward(self, X):\n",
    "        a = torch.exp(self.log_a)\n",
    "        return self.C / (1 + (a * torch.pow(torch.e, torch.neg(self.b) * X)))\n",
    "\n",
    "    def __str__(self):\n",
    "        return rf\"$f(x) = \\frac{{{float(self.C):.3f}}}{{1 + {float(torch.exp(self.log_a)):.3f} \\cdot e^{{{float(torch.neg(self.b)):.3f}x}}}}$\"\n",
    "    \n",
    "    def __repr__(self):\n",
    "        return rf\"${float(self.C):.3f} / (1 + {float(torch.exp(self.log_a)):.3f} * e**({float(torch.neg(self.b)):.3f} * x))$\""
   ]
  },
  {
   "cell_type": "code",
   "execution_count": 15,
   "metadata": {},
   "outputs": [],
   "source": [
    "class LogarithmicRegressionModel(nn.Module):\n",
    "    def __init__(self):\n",
    "        super().__init__()\n",
    "\n",
    "        self.log_a = nn.Parameter(torch.randn(1))\n",
    "        self.b = nn.Parameter(torch.randn(1))\n",
    "\n",
    "    def forward(self, X):\n",
    "        return (torch.log(X) / self.log_a) + self.b\n",
    "\n",
    "    def __str__(self):\n",
    "        return rf\"$f(x) = \\frac{{ln(x)}}{{ln({torch.exp(self.log_a)})}} + {float(self.b):.3f}$\"\n",
    "    \n",
    "    def __repr__(self):\n",
    "        return rf\"(ln(x) / ln({float(torch.exp(self.log_a)):.3f})) + {float(self.b):.3f}\""
   ]
  },
  {
   "cell_type": "code",
   "execution_count": 16,
   "metadata": {},
   "outputs": [],
   "source": [
    "class LinearRegressionModel(nn.Module):\n",
    "    def __init__(self):\n",
    "        super().__init__()\n",
    "\n",
    "        self.a = nn.Parameter(torch.randn(1))\n",
    "        self.b = nn.Parameter(torch.randn(1))\n",
    "\n",
    "    def forward(self, x):\n",
    "        return (self.a * x) + self.b\n",
    "\n",
    "    def __str__(self):\n",
    "        return f\"$f(x) = {float(self.a):.3f}x + {float(self.b):.3f}$\""
   ]
  },
  {
   "cell_type": "code",
   "execution_count": 17,
   "metadata": {},
   "outputs": [],
   "source": [
    "class QuadraticRegressionModel(nn.Module):\n",
    "    def __init__(self):\n",
    "        super().__init__()\n",
    "\n",
    "        self.a = nn.Parameter(torch.randn(1))\n",
    "        self.b = nn.Parameter(torch.randn(1))\n",
    "        self.c = nn.Parameter(torch.randn(1))\n",
    "\n",
    "    def forward(self, x):\n",
    "        return (self.a * torch.pow(x, 2)) + (self.b * x) + self.c\n",
    "\n",
    "    def __str__(self):\n",
    "        return f\"$f(x) = {float(self.a):.3f}x^2 + {float(self.b):.3f}x + {float(self.c):.3f}$\""
   ]
  },
  {
   "cell_type": "code",
   "execution_count": 18,
   "metadata": {},
   "outputs": [
    {
     "data": {
      "text/plain": [
       "<bound method LogistRegressionModel.__repr__ of $0.273 / (1 + 0.399 * e**(0.040 * x))$>"
      ]
     },
     "execution_count": 18,
     "metadata": {},
     "output_type": "execute_result"
    }
   ],
   "source": [
    "model = LogistRegressionModel().to(device)\n",
    "model.__repr__"
   ]
  },
  {
   "cell_type": "markdown",
   "metadata": {},
   "source": [
    "### Loss and Optimizer\n"
   ]
  },
  {
   "cell_type": "code",
   "execution_count": 19,
   "metadata": {},
   "outputs": [],
   "source": [
    "loss_fn = nn.MSELoss()\n",
    "\n",
    "optimizer = torch.optim.Adam(params=model.parameters(), lr=0.01)\n",
    "\n",
    "scaler = GradScaler(device=str(device))"
   ]
  },
  {
   "cell_type": "markdown",
   "metadata": {},
   "source": [
    "### Train Model\n"
   ]
  },
  {
   "cell_type": "code",
   "execution_count": 23,
   "metadata": {},
   "outputs": [
    {
     "data": {
      "application/vnd.jupyter.widget-view+json": {
       "model_id": "5ea176c9245c46a8b8f2dca92f05df02",
       "version_major": 2,
       "version_minor": 0
      },
      "text/plain": [
       "  0%|          | 0/1000 [00:00<?, ?it/s]"
      ]
     },
     "metadata": {},
     "output_type": "display_data"
    },
    {
     "name": "stdout",
     "output_type": "stream",
     "text": [
      "      Epoch: 50  |  train_loss: 3546.5842  |  test_loss: 0.0000  |  \n",
      "      Epoch: 100  |  train_loss: 3326.5537  |  test_loss: 0.0000  |  \n",
      "      Epoch: 150  |  train_loss: 3559.8778  |  test_loss: 0.0000  |  \n",
      "      Epoch: 200  |  train_loss: 3367.2754  |  test_loss: 0.0000  |  \n",
      "      Epoch: 250  |  train_loss: 3337.4615  |  test_loss: 0.0000  |  \n",
      "      Epoch: 300  |  train_loss: 3314.3350  |  test_loss: 0.0000  |  \n",
      "      Epoch: 350  |  train_loss: 3403.8623  |  test_loss: 0.0000  |  \n",
      "      Epoch: 400  |  train_loss: 3675.5409  |  test_loss: 0.0000  |  \n",
      "      Epoch: 450  |  train_loss: 3366.6018  |  test_loss: 0.0000  |  \n",
      "      Epoch: 500  |  train_loss: 3326.5105  |  test_loss: 0.0000  |  \n",
      "      Epoch: 550  |  train_loss: 3592.3476  |  test_loss: 0.0000  |  \n",
      "      Epoch: 600  |  train_loss: 3400.2751  |  test_loss: 0.0000  |  \n",
      "      Epoch: 650  |  train_loss: 3334.0816  |  test_loss: 0.0000  |  \n",
      "      Epoch: 700  |  train_loss: 3794.8463  |  test_loss: 0.0000  |  \n",
      "      Epoch: 750  |  train_loss: 3337.9388  |  test_loss: 0.0000  |  \n",
      "      Epoch: 800  |  train_loss: 3439.6726  |  test_loss: 0.0000  |  \n",
      "      Epoch: 850  |  train_loss: 3353.4137  |  test_loss: 0.0000  |  \n",
      "      Epoch: 900  |  train_loss: 3328.5513  |  test_loss: 0.0000  |  \n",
      "      Epoch: 950  |  train_loss: 3307.3748  |  test_loss: 0.0000  |  \n",
      "      Epoch: 1000  |  train_loss: 3370.8335  |  test_loss: 0.0000  |  \n"
     ]
    }
   ],
   "source": [
    "epochs = 1000\n",
    "\n",
    "train_loss = test_loss = 0\n",
    "\n",
    "\n",
    "for epoch in tqdm(range(epochs)):\n",
    "\n",
    "    model.train()\n",
    "\n",
    "    train_loss = 0\n",
    "\n",
    "    for batch, (X, y) in enumerate(train_dataloader):\n",
    "        with torch.autocast(device_type=device.type, dtype=torch.float16):\n",
    "            X, y = X.to(device), y.to(device)\n",
    "            y_pred = model(X)\n",
    "            loss = loss_fn(y_pred, y)\n",
    "            train_loss += loss.item()\n",
    "\n",
    "        scaler.scale(loss).backward()\n",
    "\n",
    "        scaler.step(optimizer)\n",
    "\n",
    "        scaler.update()\n",
    "\n",
    "        optimizer.zero_grad(set_to_none=True)\n",
    "\n",
    "    train_loss = train_loss / len(train_dataloader)\n",
    "\n",
    "    if len(test_data) > 0:\n",
    "        model.eval()\n",
    "\n",
    "        test_loss = 0\n",
    "        with torch.inference_mode():\n",
    "            for batch, (X, y) in enumerate(test_dataloader):\n",
    "                with torch.autocast(device_type=device.type, dtype=torch.float16):\n",
    "                    X, y = X.to(device), y.to(device)\n",
    "                    test_pred_logits = model(X)\n",
    "                    loss = loss_fn(test_pred_logits, y)\n",
    "                    test_loss += loss.item()\n",
    "\n",
    "        test_loss = test_loss / len(test_dataloader)\n",
    "\n",
    "    if (epoch+1) % 50 == 0:\n",
    "\n",
    "        tqdm.write(\n",
    "            f\"      Epoch: {epoch+1}  |  \"\n",
    "            f\"train_loss: {train_loss:.4f}  |  \"\n",
    "            f\"test_loss: {test_loss:.4f}  |  \"\n",
    "        )"
   ]
  },
  {
   "cell_type": "code",
   "execution_count": 24,
   "metadata": {},
   "outputs": [
    {
     "name": "stdout",
     "output_type": "stream",
     "text": [
      "<bound method LogistRegressionModel.__repr__ of $80.706 / (1 + 229.438 * e**(-0.390 * x))$>\n"
     ]
    },
    {
     "data": {
      "image/png": "[encoded data removed]",
      "text/plain": [
       "<Figure size 1500x800 with 1 Axes>"
      ]
     },
     "metadata": {},
     "output_type": "display_data"
    }
   ],
   "source": [
    "model.eval()\n",
    "\n",
    "x_vals = torch.linspace(dataset.values[0].squeeze(), dataset.values[-1].squeeze(), 100).to(device)\n",
    "\n",
    "with torch.inference_mode():\n",
    "    y_preds = [float(model(val.unsqueeze(dim=0))) for val in x_vals]\n",
    "\n",
    "print(model.__repr__)\n",
    "\n",
    "sns.set_theme()\n",
    "plt.figure(figsize=(15, 8))\n",
    "\n",
    "sns.scatterplot(x=dataset.values.squeeze(dim=1), y=dataset.targets.squeeze(dim=1), color=\"orange\")\n",
    "sns.lineplot(x=x_vals.tolist(), y=y_preds, label=str(model), color=\"red\")\n",
    "plt.xlabel(\"Tuberculose\")\n",
    "plt.ylabel(\"pm25\")\n",
    "plt.legend()\n",
    "plt.show()"
   ]
  }
 ],
 "metadata": {
  "kernelspec": {
   "display_name": ".venv",
   "language": "python",
   "name": "python3"
  },
  "language_info": {
   "codemirror_mode": {
    "name": "ipython",
    "version": 3
   },
   "file_extension": ".py",
   "mimetype": "text/x-python",
   "name": "python",
   "nbconvert_exporter": "python",
   "pygments_lexer": "ipython3",
   "version": "3.13.3"
  }
 },
 "nbformat": 4,
 "nbformat_minor": 2
}
