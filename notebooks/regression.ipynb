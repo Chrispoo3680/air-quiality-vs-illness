{
 "cells": [
  {
   "cell_type": "code",
   "execution_count": 1,
   "metadata": {},
   "outputs": [
    {
     "data": {
      "text/plain": [
       "'2.7.0+cpu'"
      ]
     },
     "execution_count": 1,
     "metadata": {},
     "output_type": "execute_result"
    }
   ],
   "source": [
    "import torch\n",
    "from torch import nn\n",
    "from torch import GradScaler\n",
    "from torch.utils.data import random_split, DataLoader, Dataset\n",
    "\n",
    "import matplotlib.pyplot as plt\n",
    "import seaborn as sns\n",
    "import pandas as pd\n",
    "import sys\n",
    "import os\n",
    "from pathlib import Path\n",
    "\n",
    "from tqdm.auto import tqdm\n",
    "\n",
    "torch.manual_seed(0)\n",
    "torch.__version__"
   ]
  },
  {
   "cell_type": "code",
   "execution_count": 2,
   "metadata": {},
   "outputs": [
    {
     "data": {
      "text/plain": [
       "device(type='cpu')"
      ]
     },
     "execution_count": 2,
     "metadata": {},
     "output_type": "execute_result"
    }
   ],
   "source": [
    "device = torch.device(\"cuda\") if torch.cuda.is_available() else torch.device(\"cpu\")\n",
    "device"
   ]
  },
  {
   "cell_type": "markdown",
   "metadata": {},
   "source": [
    "### Prepare Data\n"
   ]
  },
  {
   "cell_type": "code",
   "execution_count": 3,
   "metadata": {},
   "outputs": [],
   "source": [
    "class CSVDataset(Dataset):\n",
    "    def __init__(self, path: str, features_keys: list[str], target_keys: list[str]):\n",
    "        super().__init__()\n",
    "\n",
    "        df = pd.read_csv(path, sep=\";\")\n",
    "\n",
    "        self.values = torch.tensor(\n",
    "            list(zip(*[df[key].to_list() for key in features_keys])),\n",
    "            dtype=torch.float32,\n",
    "        )\n",
    "        self.targets = torch.tensor(\n",
    "            list(zip(*[df[key].to_list() for key in target_keys])), dtype=torch.float32\n",
    "        )\n",
    "\n",
    "        self.samples = [(val, targ) for val, targ in zip(self.values, self.targets)]\n",
    "\n",
    "    def __getitem__(self, index: int):\n",
    "        return self.values[index], self.targets[index]\n",
    "\n",
    "    def __len__(self):\n",
    "        return len(self.samples)"
   ]
  },
  {
   "cell_type": "code",
   "execution_count": 4,
   "metadata": {},
   "outputs": [],
   "source": [
    "class DataframeDataset(Dataset):\n",
    "    def __init__(self, df: pd.DataFrame):\n",
    "        super().__init__()\n",
    "\n",
    "        self.values = torch.tensor(df[\"x\"], dtype=torch.float32)\n",
    "        self.targets = torch.tensor(df[\"y\"], dtype=torch.float32)\n",
    "\n",
    "        self.samples = [(val, targ) for val, targ in zip(self.values, self.targets)]\n",
    "\n",
    "    def __getitem__(self, index: int):\n",
    "        return self.values[index], self.targets[index]\n",
    "\n",
    "    def __len__(self):\n",
    "        return len(self.samples)"
   ]
  },
  {
   "cell_type": "code",
   "execution_count": 5,
   "metadata": {},
   "outputs": [],
   "source": [
    "class LogisticFuncDataset(Dataset):\n",
    "    def __init__(self, x_start=-10, x_end=10, steps=1000, C=10, a=1, b=1):\n",
    "        super().__init__()\n",
    "\n",
    "        self.values = torch.linspace(x_start, x_end, steps)\n",
    "        self.labels = C / (1 + (torch.e ** (-b * self.values)))\n",
    "\n",
    "    def __getitem__(self, index: int):\n",
    "        return self.values[index], self.labels[index]\n",
    "\n",
    "    def __len__(self):\n",
    "        return len(self.values)"
   ]
  },
  {
   "cell_type": "code",
   "execution_count": 6,
   "metadata": {},
   "outputs": [
    {
     "data": {
      "text/html": [
       "<div>\n",
       "<style scoped>\n",
       "    .dataframe tbody tr th:only-of-type {\n",
       "        vertical-align: middle;\n",
       "    }\n",
       "\n",
       "    .dataframe tbody tr th {\n",
       "        vertical-align: top;\n",
       "    }\n",
       "\n",
       "    .dataframe thead th {\n",
       "        text-align: right;\n",
       "    }\n",
       "</style>\n",
       "<table border=\"1\" class=\"dataframe\">\n",
       "  <thead>\n",
       "    <tr style=\"text-align: right;\">\n",
       "      <th></th>\n",
       "      <th>tuberculosis</th>\n",
       "      <th>hiv</th>\n",
       "      <th>pm25</th>\n",
       "      <th>co</th>\n",
       "      <th>no2</th>\n",
       "      <th>pm1</th>\n",
       "      <th>pm10</th>\n",
       "      <th>o3</th>\n",
       "      <th>so2</th>\n",
       "    </tr>\n",
       "    <tr>\n",
       "      <th>country</th>\n",
       "      <th></th>\n",
       "      <th></th>\n",
       "      <th></th>\n",
       "      <th></th>\n",
       "      <th></th>\n",
       "      <th></th>\n",
       "      <th></th>\n",
       "      <th></th>\n",
       "      <th></th>\n",
       "    </tr>\n",
       "  </thead>\n",
       "  <tbody>\n",
       "    <tr>\n",
       "      <th>SM</th>\n",
       "      <td>1.988</td>\n",
       "      <td>0.015</td>\n",
       "      <td>NaN</td>\n",
       "      <td>NaN</td>\n",
       "      <td>4.960</td>\n",
       "      <td>NaN</td>\n",
       "      <td>NaN</td>\n",
       "      <td>65.400</td>\n",
       "      <td>NaN</td>\n",
       "    </tr>\n",
       "    <tr>\n",
       "      <th>DK</th>\n",
       "      <td>2.739</td>\n",
       "      <td>0.032</td>\n",
       "      <td>NaN</td>\n",
       "      <td>181.5</td>\n",
       "      <td>7.801</td>\n",
       "      <td>NaN</td>\n",
       "      <td>11.300</td>\n",
       "      <td>58.240</td>\n",
       "      <td>NaN</td>\n",
       "    </tr>\n",
       "    <tr>\n",
       "      <th>IS</th>\n",
       "      <td>2.902</td>\n",
       "      <td>0.098</td>\n",
       "      <td>3.318</td>\n",
       "      <td>116.0</td>\n",
       "      <td>5.828</td>\n",
       "      <td>2.053</td>\n",
       "      <td>6.981</td>\n",
       "      <td>20.000</td>\n",
       "      <td>2.418</td>\n",
       "    </tr>\n",
       "    <tr>\n",
       "      <th>NL</th>\n",
       "      <td>2.923</td>\n",
       "      <td>0.020</td>\n",
       "      <td>2.882</td>\n",
       "      <td>262.0</td>\n",
       "      <td>NaN</td>\n",
       "      <td>14.130</td>\n",
       "      <td>2.383</td>\n",
       "      <td>48.667</td>\n",
       "      <td>NaN</td>\n",
       "    </tr>\n",
       "    <tr>\n",
       "      <th>GR</th>\n",
       "      <td>2.999</td>\n",
       "      <td>0.047</td>\n",
       "      <td>13.377</td>\n",
       "      <td>1270.0</td>\n",
       "      <td>19.817</td>\n",
       "      <td>NaN</td>\n",
       "      <td>27.040</td>\n",
       "      <td>67.180</td>\n",
       "      <td>6.783</td>\n",
       "    </tr>\n",
       "    <tr>\n",
       "      <th>...</th>\n",
       "      <td>...</td>\n",
       "      <td>...</td>\n",
       "      <td>...</td>\n",
       "      <td>...</td>\n",
       "      <td>...</td>\n",
       "      <td>...</td>\n",
       "      <td>...</td>\n",
       "      <td>...</td>\n",
       "      <td>...</td>\n",
       "    </tr>\n",
       "    <tr>\n",
       "      <th>KE</th>\n",
       "      <td>200.422</td>\n",
       "      <td>0.719</td>\n",
       "      <td>14.200</td>\n",
       "      <td>NaN</td>\n",
       "      <td>NaN</td>\n",
       "      <td>10.900</td>\n",
       "      <td>21.700</td>\n",
       "      <td>NaN</td>\n",
       "      <td>NaN</td>\n",
       "    </tr>\n",
       "    <tr>\n",
       "      <th>IN</th>\n",
       "      <td>212.643</td>\n",
       "      <td>0.041</td>\n",
       "      <td>NaN</td>\n",
       "      <td>NaN</td>\n",
       "      <td>NaN</td>\n",
       "      <td>67.500</td>\n",
       "      <td>NaN</td>\n",
       "      <td>NaN</td>\n",
       "      <td>NaN</td>\n",
       "    </tr>\n",
       "    <tr>\n",
       "      <th>MG</th>\n",
       "      <td>221.561</td>\n",
       "      <td>0.213</td>\n",
       "      <td>29.100</td>\n",
       "      <td>NaN</td>\n",
       "      <td>NaN</td>\n",
       "      <td>NaN</td>\n",
       "      <td>NaN</td>\n",
       "      <td>NaN</td>\n",
       "      <td>NaN</td>\n",
       "    </tr>\n",
       "    <tr>\n",
       "      <th>UG</th>\n",
       "      <td>271.394</td>\n",
       "      <td>1.494</td>\n",
       "      <td>42.100</td>\n",
       "      <td>NaN</td>\n",
       "      <td>NaN</td>\n",
       "      <td>NaN</td>\n",
       "      <td>NaN</td>\n",
       "      <td>NaN</td>\n",
       "      <td>NaN</td>\n",
       "    </tr>\n",
       "    <tr>\n",
       "      <th>PH</th>\n",
       "      <td>324.107</td>\n",
       "      <td>0.477</td>\n",
       "      <td>18.000</td>\n",
       "      <td>NaN</td>\n",
       "      <td>NaN</td>\n",
       "      <td>NaN</td>\n",
       "      <td>NaN</td>\n",
       "      <td>NaN</td>\n",
       "      <td>NaN</td>\n",
       "    </tr>\n",
       "  </tbody>\n",
       "</table>\n",
       "<p>83 rows × 9 columns</p>\n",
       "</div>"
      ],
      "text/plain": [
       "         tuberculosis    hiv    pm25      co     no2     pm1    pm10      o3  \\\n",
       "country                                                                        \n",
       "SM              1.988  0.015     NaN     NaN   4.960     NaN     NaN  65.400   \n",
       "DK              2.739  0.032     NaN   181.5   7.801     NaN  11.300  58.240   \n",
       "IS              2.902  0.098   3.318   116.0   5.828   2.053   6.981  20.000   \n",
       "NL              2.923  0.020   2.882   262.0     NaN  14.130   2.383  48.667   \n",
       "GR              2.999  0.047  13.377  1270.0  19.817     NaN  27.040  67.180   \n",
       "...               ...    ...     ...     ...     ...     ...     ...     ...   \n",
       "KE            200.422  0.719  14.200     NaN     NaN  10.900  21.700     NaN   \n",
       "IN            212.643  0.041     NaN     NaN     NaN  67.500     NaN     NaN   \n",
       "MG            221.561  0.213  29.100     NaN     NaN     NaN     NaN     NaN   \n",
       "UG            271.394  1.494  42.100     NaN     NaN     NaN     NaN     NaN   \n",
       "PH            324.107  0.477  18.000     NaN     NaN     NaN     NaN     NaN   \n",
       "\n",
       "           so2  \n",
       "country         \n",
       "SM         NaN  \n",
       "DK         NaN  \n",
       "IS       2.418  \n",
       "NL         NaN  \n",
       "GR       6.783  \n",
       "...        ...  \n",
       "KE         NaN  \n",
       "IN         NaN  \n",
       "MG         NaN  \n",
       "UG         NaN  \n",
       "PH         NaN  \n",
       "\n",
       "[83 rows x 9 columns]"
      ]
     },
     "execution_count": 6,
     "metadata": {},
     "output_type": "execute_result"
    }
   ],
   "source": [
    "health_df = pd.read_csv(\"../data/ihme_data.csv\")\n",
    "\n",
    "sensor_df = pd.read_csv(\"../data/openaq_data.csv\")\n",
    "sensor_df.dropna(axis=0, how=\"all\", inplace=True)\n",
    "\n",
    "df = pd.merge(health_df, sensor_df)\n",
    "\n",
    "df.sort_values(\"tuberculosis\", inplace=True)\n",
    "df.set_index(\"country\", inplace=True)\n",
    "\n",
    "df[df < 0] = None\n",
    "df[df[\"tuberculosis\"] > 500] = None\n",
    "df = df.dropna(how=\"all\", subset=[\"pm1\", \"pm10\", \"pm25\", \"co\", \"no2\", \"o3\", \"so2\"])\n",
    "df"
   ]
  },
  {
   "cell_type": "code",
   "execution_count": 7,
   "metadata": {},
   "outputs": [
    {
     "name": "stderr",
     "output_type": "stream",
     "text": [
      "C:\\Users\\chris\\AppData\\Local\\Temp\\ipykernel_8120\\4196196558.py:5: FutureWarning: Series.__getitem__ treating keys as positions is deprecated. In a future version, integer keys will always be treated as labels (consistent with DataFrame behavior). To access a value by position, use `ser.iloc[pos]`\n",
      "  self.values = torch.tensor(df[\"x\"], dtype=torch.float32)\n",
      "C:\\Users\\chris\\AppData\\Local\\Temp\\ipykernel_8120\\4196196558.py:6: FutureWarning: Series.__getitem__ treating keys as positions is deprecated. In a future version, integer keys will always be treated as labels (consistent with DataFrame behavior). To access a value by position, use `ser.iloc[pos]`\n",
      "  self.targets = torch.tensor(df[\"y\"], dtype=torch.float32)\n"
     ]
    },
    {
     "data": {
      "text/html": [
       "<div>\n",
       "<style scoped>\n",
       "    .dataframe tbody tr th:only-of-type {\n",
       "        vertical-align: middle;\n",
       "    }\n",
       "\n",
       "    .dataframe tbody tr th {\n",
       "        vertical-align: top;\n",
       "    }\n",
       "\n",
       "    .dataframe thead th {\n",
       "        text-align: right;\n",
       "    }\n",
       "</style>\n",
       "<table border=\"1\" class=\"dataframe\">\n",
       "  <thead>\n",
       "    <tr style=\"text-align: right;\">\n",
       "      <th></th>\n",
       "      <th>x</th>\n",
       "      <th>y</th>\n",
       "    </tr>\n",
       "    <tr>\n",
       "      <th>country</th>\n",
       "      <th></th>\n",
       "      <th></th>\n",
       "    </tr>\n",
       "  </thead>\n",
       "  <tbody>\n",
       "    <tr>\n",
       "      <th>IS</th>\n",
       "      <td>2.902</td>\n",
       "      <td>3.318</td>\n",
       "    </tr>\n",
       "    <tr>\n",
       "      <th>NL</th>\n",
       "      <td>2.923</td>\n",
       "      <td>2.882</td>\n",
       "    </tr>\n",
       "    <tr>\n",
       "      <th>GR</th>\n",
       "      <td>2.999</td>\n",
       "      <td>13.377</td>\n",
       "    </tr>\n",
       "    <tr>\n",
       "      <th>FI</th>\n",
       "      <td>3.131</td>\n",
       "      <td>4.324</td>\n",
       "    </tr>\n",
       "    <tr>\n",
       "      <th>CY</th>\n",
       "      <td>3.153</td>\n",
       "      <td>14.111</td>\n",
       "    </tr>\n",
       "    <tr>\n",
       "      <th>...</th>\n",
       "      <td>...</td>\n",
       "      <td>...</td>\n",
       "    </tr>\n",
       "    <tr>\n",
       "      <th>RW</th>\n",
       "      <td>181.084</td>\n",
       "      <td>40.300</td>\n",
       "    </tr>\n",
       "    <tr>\n",
       "      <th>KE</th>\n",
       "      <td>200.422</td>\n",
       "      <td>14.200</td>\n",
       "    </tr>\n",
       "    <tr>\n",
       "      <th>MG</th>\n",
       "      <td>221.561</td>\n",
       "      <td>29.100</td>\n",
       "    </tr>\n",
       "    <tr>\n",
       "      <th>UG</th>\n",
       "      <td>271.394</td>\n",
       "      <td>42.100</td>\n",
       "    </tr>\n",
       "    <tr>\n",
       "      <th>PH</th>\n",
       "      <td>324.107</td>\n",
       "      <td>18.000</td>\n",
       "    </tr>\n",
       "  </tbody>\n",
       "</table>\n",
       "<p>77 rows × 2 columns</p>\n",
       "</div>"
      ],
      "text/plain": [
       "               x       y\n",
       "country                 \n",
       "IS         2.902   3.318\n",
       "NL         2.923   2.882\n",
       "GR         2.999  13.377\n",
       "FI         3.131   4.324\n",
       "CY         3.153  14.111\n",
       "...          ...     ...\n",
       "RW       181.084  40.300\n",
       "KE       200.422  14.200\n",
       "MG       221.561  29.100\n",
       "UG       271.394  42.100\n",
       "PH       324.107  18.000\n",
       "\n",
       "[77 rows x 2 columns]"
      ]
     },
     "execution_count": 7,
     "metadata": {},
     "output_type": "execute_result"
    }
   ],
   "source": [
    "point_df = df[[\"tuberculosis\", \"pm25\"]].dropna(how=\"any\")\n",
    "point_df.rename(columns={\"tuberculosis\": \"x\", \"pm25\": \"y\"}, inplace=True)\n",
    "\n",
    "dataset = DataframeDataset(point_df)\n",
    "point_df"
   ]
  },
  {
   "cell_type": "code",
   "execution_count": 8,
   "metadata": {},
   "outputs": [
    {
     "data": {
      "text/plain": [
       "<Axes: xlabel='None', ylabel='None'>"
      ]
     },
     "execution_count": 8,
     "metadata": {},
     "output_type": "execute_result"
    },
    {
     "data": {
      "image/png": "[encoded data removed]",
      "text/plain": [
       "<Figure size 1500x800 with 1 Axes>"
      ]
     },
     "metadata": {},
     "output_type": "display_data"
    }
   ],
   "source": [
    "sns.set_theme()\n",
    "plt.figure(figsize=(15, 8))\n",
    "\n",
    "sns.scatterplot(x=dataset.values, y=dataset.targets, color=\"lime\")"
   ]
  },
  {
   "cell_type": "code",
   "execution_count": 9,
   "metadata": {},
   "outputs": [
    {
     "name": "stdout",
     "output_type": "stream",
     "text": [
      "77\n",
      "0\n"
     ]
    }
   ],
   "source": [
    "train_size = int(1 * len(dataset))\n",
    "test_size = len(dataset) - train_size\n",
    "\n",
    "train_data, test_data = random_split(dataset, [train_size, test_size])\n",
    "\n",
    "print(f\"{len(train_data)}\\n{len(test_data)}\")"
   ]
  },
  {
   "cell_type": "code",
   "execution_count": 10,
   "metadata": {},
   "outputs": [
    {
     "name": "stdout",
     "output_type": "stream",
     "text": [
      "Creating DataLoader's with batch size 1.\n"
     ]
    },
    {
     "data": {
      "text/plain": [
       "(<torch.utils.data.dataset.Subset at 0x246ad14e660>,\n",
       " <torch.utils.data.dataloader.DataLoader at 0x246ad1c56d0>)"
      ]
     },
     "execution_count": 10,
     "metadata": {},
     "output_type": "execute_result"
    }
   ],
   "source": [
    "BATCH_SIZE = 1\n",
    "\n",
    "print(f\"Creating DataLoader's with batch size {BATCH_SIZE}.\")\n",
    "\n",
    "# Make dataset into dataloader\n",
    "train_dataloader = DataLoader(dataset=train_data, batch_size=BATCH_SIZE, shuffle=True)\n",
    "\n",
    "test_dataloader = DataLoader(dataset=test_data, batch_size=BATCH_SIZE, shuffle=False)\n",
    "\n",
    "train_dataloader.dataset, test_dataloader"
   ]
  },
  {
   "cell_type": "markdown",
   "metadata": {},
   "source": [
    "### Building Model\n"
   ]
  },
  {
   "cell_type": "code",
   "execution_count": 11,
   "metadata": {},
   "outputs": [],
   "source": [
    "class RegressionModel(nn.Module):\n",
    "    def __init__(self, input_dim=1, output_dim=1, hidden_nodes=8):\n",
    "        super().__init__()\n",
    "\n",
    "        self.layer1 = nn.Linear(input_dim, hidden_nodes)\n",
    "        self.layer2 = nn.Linear(hidden_nodes, hidden_nodes)\n",
    "        self.layer3 = nn.Linear(hidden_nodes, hidden_nodes)\n",
    "        self.layer4 = nn.Linear(hidden_nodes, hidden_nodes)\n",
    "        self.layer5 = nn.Linear(hidden_nodes, output_dim)\n",
    "\n",
    "        self.activation = nn.ReLU()\n",
    "\n",
    "    def forward(self, x):\n",
    "        x = self.activation(self.layer1(x))\n",
    "        x = self.activation(self.layer2(x))\n",
    "        x = self.activation(self.layer3(x))\n",
    "        x = self.activation(self.layer4(x))\n",
    "        x = self.layer5(x)\n",
    "\n",
    "        return x"
   ]
  },
  {
   "cell_type": "code",
   "execution_count": 12,
   "metadata": {},
   "outputs": [],
   "source": [
    "class ExpRegressionModel(nn.Module):\n",
    "    def __init__(self):\n",
    "        super().__init__()\n",
    "\n",
    "        # Learnable parameters\n",
    "        self.a = nn.Parameter(torch.randn(1))  # a can be positive or negative\n",
    "        self.log_b = nn.Parameter(\n",
    "            torch.randn(1)\n",
    "        )  # Learning log_b instead of b directly\n",
    "\n",
    "    def forward(self, X):\n",
    "        b = torch.exp(self.log_b)  # Ensures b is always positive, allows b < 1\n",
    "        return self.a * torch.pow(b, X)  # a * b^x\n",
    "\n",
    "    def __str__(self):\n",
    "        return f\"$f(x) = {float(self.a):.3f} * {float(torch.exp(self.log_b)):.3f}^x$\""
   ]
  },
  {
   "cell_type": "code",
   "execution_count": 13,
   "metadata": {},
   "outputs": [],
   "source": [
    "class LogistRegressionModel(nn.Module):\n",
    "    def __init__(self):\n",
    "        super().__init__()\n",
    "\n",
    "        # Learnable parameters\n",
    "        self.C = nn.Parameter(torch.randn(1))\n",
    "        self.log_a = nn.Parameter(torch.randn(1))\n",
    "        self.b = nn.Parameter(torch.randn(1))\n",
    "\n",
    "    def forward(self, X):\n",
    "        a = torch.exp(self.log_a)\n",
    "        return self.C / (1 + (a * torch.pow(torch.e, torch.neg(self.b) * X)))\n",
    "\n",
    "    def __str__(self):\n",
    "        return rf\"$f(x) = \\frac{{{float(self.C):.3f}}}{{1 + {float(torch.exp(self.log_a)):.3f} \\cdot e^{{{float(torch.neg(self.b)):.3f}x}}}}$\""
   ]
  },
  {
   "cell_type": "code",
   "execution_count": 14,
   "metadata": {},
   "outputs": [],
   "source": [
    "class LinearRegressionModel(nn.Module):\n",
    "    def __init__(self):\n",
    "        super().__init__()\n",
    "\n",
    "        self.a = nn.Parameter(torch.randn(1))\n",
    "        self.b = nn.Parameter(torch.randn(1))\n",
    "\n",
    "    def forward(self, x):\n",
    "        return (self.a * x) + self.b\n",
    "\n",
    "    def __str__(self):\n",
    "        return f\"$f(x) = {float(self.a):.3f}x + {float(self.b):.3f}$\""
   ]
  },
  {
   "cell_type": "code",
   "execution_count": 15,
   "metadata": {},
   "outputs": [],
   "source": [
    "class QuadraticRegressionModel(nn.Module):\n",
    "    def __init__(self):\n",
    "        super().__init__()\n",
    "\n",
    "        self.a = nn.Parameter(torch.randn(1))\n",
    "        self.b = nn.Parameter(torch.randn(1))\n",
    "        self.c = nn.Parameter(torch.randn(1))\n",
    "\n",
    "    def forward(self, x):\n",
    "        return (self.a * torch.pow(x, 2)) + (self.b * x) + self.c\n",
    "\n",
    "    def __str__(self):\n",
    "        return f\"$f(x) = {float(self.a):.3f}x^2 + {float(self.b):.3f}x + {float(self.c):.3f}$\""
   ]
  },
  {
   "cell_type": "code",
   "execution_count": 16,
   "metadata": {},
   "outputs": [
    {
     "data": {
      "text/plain": [
       "'$f(x) = 0.273x + -0.918$'"
      ]
     },
     "execution_count": 16,
     "metadata": {},
     "output_type": "execute_result"
    }
   ],
   "source": [
    "model = LinearRegressionModel().to(device)\n",
    "str(model)"
   ]
  },
  {
   "cell_type": "markdown",
   "metadata": {},
   "source": [
    "### Loss and Optimizer\n"
   ]
  },
  {
   "cell_type": "code",
   "execution_count": 17,
   "metadata": {},
   "outputs": [],
   "source": [
    "loss_fn = nn.MSELoss()\n",
    "\n",
    "optimizer = torch.optim.Adam(params=model.parameters(), lr=0.1)\n",
    "\n",
    "scaler = GradScaler(device=str(device))"
   ]
  },
  {
   "cell_type": "markdown",
   "metadata": {},
   "source": [
    "### Train Model\n"
   ]
  },
  {
   "cell_type": "code",
   "execution_count": 18,
   "metadata": {},
   "outputs": [
    {
     "data": {
      "application/vnd.jupyter.widget-view+json": {
       "model_id": "3f25cf2fc0504357b795306bf0723324",
       "version_major": 2,
       "version_minor": 0
      },
      "text/plain": [
       "  0%|          | 0/1000 [00:00<?, ?it/s]"
      ]
     },
     "metadata": {},
     "output_type": "display_data"
    },
    {
     "name": "stdout",
     "output_type": "stream",
     "text": [
      "      Epoch: 50  |  train_loss: 921.3026  |  test_loss: 0.0000  |  \n",
      "      Epoch: 100  |  train_loss: 378.4176  |  test_loss: 0.0000  |  \n",
      "      Epoch: 150  |  train_loss: 363.0612  |  test_loss: 0.0000  |  \n",
      "      Epoch: 200  |  train_loss: 521.7460  |  test_loss: 0.0000  |  \n",
      "      Epoch: 250  |  train_loss: 241.4642  |  test_loss: 0.0000  |  \n",
      "      Epoch: 300  |  train_loss: 338.2532  |  test_loss: 0.0000  |  \n",
      "      Epoch: 350  |  train_loss: 434.3601  |  test_loss: 0.0000  |  \n",
      "      Epoch: 400  |  train_loss: 213.0513  |  test_loss: 0.0000  |  \n",
      "      Epoch: 450  |  train_loss: 292.3755  |  test_loss: 0.0000  |  \n",
      "      Epoch: 500  |  train_loss: 750.4348  |  test_loss: 0.0000  |  \n",
      "      Epoch: 550  |  train_loss: 286.7184  |  test_loss: 0.0000  |  \n",
      "      Epoch: 600  |  train_loss: 234.7043  |  test_loss: 0.0000  |  \n",
      "      Epoch: 650  |  train_loss: 279.7690  |  test_loss: 0.0000  |  \n",
      "      Epoch: 700  |  train_loss: 349.7443  |  test_loss: 0.0000  |  \n",
      "      Epoch: 750  |  train_loss: 513.9543  |  test_loss: 0.0000  |  \n",
      "      Epoch: 800  |  train_loss: 686.9989  |  test_loss: 0.0000  |  \n",
      "      Epoch: 850  |  train_loss: 246.6831  |  test_loss: 0.0000  |  \n",
      "      Epoch: 900  |  train_loss: 473.2730  |  test_loss: 0.0000  |  \n",
      "      Epoch: 950  |  train_loss: 691.0325  |  test_loss: 0.0000  |  \n",
      "      Epoch: 1000  |  train_loss: 269.2556  |  test_loss: 0.0000  |  \n"
     ]
    }
   ],
   "source": [
    "epochs = 1000\n",
    "\n",
    "train_loss = test_loss = 0\n",
    "\n",
    "\n",
    "for epoch in tqdm(range(epochs)):\n",
    "\n",
    "    model.train()\n",
    "\n",
    "    train_loss = 0\n",
    "\n",
    "    for batch, (X, y) in enumerate(train_dataloader):\n",
    "        with torch.autocast(device_type=device.type, dtype=torch.float16):\n",
    "            X, y = X.to(device), y.to(device)\n",
    "            y_pred = model(X)\n",
    "            loss = loss_fn(y_pred, y)\n",
    "            train_loss += loss.item()\n",
    "\n",
    "        scaler.scale(loss).backward()\n",
    "\n",
    "        scaler.step(optimizer)\n",
    "\n",
    "        scaler.update()\n",
    "\n",
    "        optimizer.zero_grad(set_to_none=True)\n",
    "\n",
    "    train_loss = train_loss / len(train_dataloader)\n",
    "\n",
    "    if len(test_data) > 0:\n",
    "        model.eval()\n",
    "\n",
    "        test_loss = 0\n",
    "        with torch.inference_mode():\n",
    "            for batch, (X, y) in enumerate(test_dataloader):\n",
    "                with torch.autocast(device_type=device.type, dtype=torch.float16):\n",
    "                    X, y = X.to(device), y.to(device)\n",
    "                    test_pred_logits = model(X)\n",
    "                    loss = loss_fn(test_pred_logits, y)\n",
    "                    test_loss += loss.item()\n",
    "\n",
    "        test_loss = test_loss / len(test_dataloader)\n",
    "\n",
    "    if (epoch+1) % 50 == 0:\n",
    "\n",
    "        tqdm.write(\n",
    "            f\"      Epoch: {epoch+1}  |  \"\n",
    "            f\"train_loss: {train_loss:.4f}  |  \"\n",
    "            f\"test_loss: {test_loss:.4f}  |  \"\n",
    "        )"
   ]
  },
  {
   "cell_type": "code",
   "execution_count": 20,
   "metadata": {},
   "outputs": [
    {
     "name": "stdout",
     "output_type": "stream",
     "text": [
      "$f(x) = 0.263x + 14.734$\n"
     ]
    },
    {
     "data": {
      "image/png": "[encoded data removed]",
      "text/plain": [
       "<Figure size 1280x960 with 1 Axes>"
      ]
     },
     "metadata": {},
     "output_type": "display_data"
    }
   ],
   "source": [
    "model.eval()\n",
    "\n",
    "x_vals = torch.linspace(dataset.values[0].squeeze(), dataset.values[-1].squeeze(), 100)\n",
    "\n",
    "with torch.inference_mode():\n",
    "    y_preds = [model(val.unsqueeze(dim=0)) for val in x_vals]\n",
    "\n",
    "print(str(model))\n",
    "\n",
    "plt.figure(dpi=200)\n",
    "plt.scatter(dataset.values, dataset.targets, color=\"red\")\n",
    "plt.plot(x_vals, y_preds, label=str(model))\n",
    "plt.xlabel(\"Tuberculose\")\n",
    "plt.ylabel(\"pm25\")\n",
    "plt.legend()\n",
    "plt.show()"
   ]
  }
 ],
 "metadata": {
  "kernelspec": {
   "display_name": ".venv",
   "language": "python",
   "name": "python3"
  },
  "language_info": {
   "codemirror_mode": {
    "name": "ipython",
    "version": 3
   },
   "file_extension": ".py",
   "mimetype": "text/x-python",
   "name": "python",
   "nbconvert_exporter": "python",
   "pygments_lexer": "ipython3",
   "version": "3.13.3"
  }
 },
 "nbformat": 4,
 "nbformat_minor": 2
}
